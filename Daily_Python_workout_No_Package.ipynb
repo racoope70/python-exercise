{
  "nbformat": 4,
  "nbformat_minor": 0,
  "metadata": {
    "colab": {
      "provenance": [],
      "include_colab_link": true
    },
    "kernelspec": {
      "name": "python3",
      "display_name": "Python 3"
    },
    "language_info": {
      "name": "python"
    }
  },
  "cells": [
    {
      "cell_type": "markdown",
      "metadata": {
        "id": "view-in-github",
        "colab_type": "text"
      },
      "source": [
        "<a href=\"https://colab.research.google.com/github/racoope70/python-exercise/blob/main/Daily_Python_workout_No_Package.ipynb\" target=\"_parent\"><img src=\"https://colab.research.google.com/assets/colab-badge.svg\" alt=\"Open In Colab\"/></a>"
      ]
    },
    {
      "cell_type": "code",
      "execution_count": null,
      "metadata": {
        "colab": {
          "base_uri": "https://localhost:8080/"
        },
        "id": "dEBByIE14qyW",
        "outputId": "a170cf73-8eef-41dc-fde2-aa7344312240"
      },
      "outputs": [
        {
          "output_type": "stream",
          "name": "stdout",
          "text": [
            "My name is Richard\n"
          ]
        }
      ],
      "source": [
        "def name():\n",
        "  print(\"My name is Richard\")\n",
        "\n",
        "name()"
      ]
    },
    {
      "cell_type": "code",
      "source": [
        "def name(First):\n",
        "  print(\"My name is,\", First)\n",
        "\n",
        "First = \"Richard\"\n",
        "name(First)"
      ],
      "metadata": {
        "colab": {
          "base_uri": "https://localhost:8080/"
        },
        "id": "-JqOqDwmzBcE",
        "outputId": "4c6fb932-5a7c-4eee-d980-c7cdfa264368"
      },
      "execution_count": null,
      "outputs": [
        {
          "output_type": "stream",
          "name": "stdout",
          "text": [
            "My name is, Richard\n"
          ]
        }
      ]
    },
    {
      "cell_type": "code",
      "source": [
        "# if inside function — then it would be hard-coded and not reusable:\n",
        "def name():\n",
        "    first = 'Richard'\n",
        "    return f'My name is {first}'\n",
        "\n",
        "print(name())  # ✅ Works, but now the name is fixed\n",
        "#Now, you can't pass in different names — it's always \"Richard\".\n"
      ],
      "metadata": {
        "id": "gxCTqZ0iVF0z"
      },
      "execution_count": null,
      "outputs": []
    },
    {
      "cell_type": "code",
      "source": [
        "def name(first):\n",
        "    return f\"My name is {first}\"\n",
        "\n",
        "print(name(\"Richard\"))\n",
        "print(name(\"Sarah\"))\n",
        "#You can reuse it with any name — that's the whole point of function arguments."
      ],
      "metadata": {
        "id": "MjzoLe5dVEsi"
      },
      "execution_count": null,
      "outputs": []
    },
    {
      "cell_type": "code",
      "source": [
        "def sum(result):\n",
        "  result = c1 + c2\n",
        "  print(\"The total is \", result)\n",
        "\n",
        "c1 = 4\n",
        "c2 = 5\n",
        "sum(result)"
      ],
      "metadata": {
        "colab": {
          "base_uri": "https://localhost:8080/"
        },
        "id": "zv7DaFw4zPAP",
        "outputId": "b51b1925-06cd-4a3d-9c4c-9b79e394f6a3"
      },
      "execution_count": null,
      "outputs": [
        {
          "output_type": "stream",
          "name": "stdout",
          "text": [
            "The total is  9\n"
          ]
        }
      ]
    },
    {
      "cell_type": "code",
      "source": [
        "def Class(grade):\n",
        "  if grade <= 59:\n",
        "    print(\"Failed class\")\n",
        "  if grade > 59:\n",
        "    print(\"Passed\")\n",
        "\n",
        "grade = 60\n",
        "Class(grade)"
      ],
      "metadata": {
        "colab": {
          "base_uri": "https://localhost:8080/"
        },
        "id": "MJfDdClg_79K",
        "outputId": "3faf6510-ef1d-433f-99f4-2a91eeab2f2e"
      },
      "execution_count": null,
      "outputs": [
        {
          "output_type": "stream",
          "name": "stdout",
          "text": [
            "Passed\n"
          ]
        }
      ]
    },
    {
      "cell_type": "code",
      "source": [
        "def Algebra(grade):\n",
        "  if grade > 70:\n",
        "    print(f\"Grade: {grade} - Pass\")\n",
        "  else:\n",
        "    print(f\"Grade: {grade} - Fail\")\n",
        "\n",
        "grade = 50\n",
        "\n",
        "while grade <= 100:   # loop as long as grade is 100 or less\n",
        "  Algebra(grade)      # call the function\n",
        "  grade += 10         # increase the grade by 10"
      ],
      "metadata": {
        "colab": {
          "base_uri": "https://localhost:8080/"
        },
        "id": "voEZkQVPXLBp",
        "outputId": "cfa9fc53-956e-45b9-d840-903720bdce64"
      },
      "execution_count": 1,
      "outputs": [
        {
          "output_type": "stream",
          "name": "stdout",
          "text": [
            "Grade: 50 - Fail\n",
            "Grade: 60 - Fail\n",
            "Grade: 70 - Fail\n",
            "Grade: 80 - Pass\n",
            "Grade: 90 - Pass\n",
            "Grade: 100 - Pass\n"
          ]
        }
      ]
    },
    {
      "cell_type": "code",
      "source": [
        "number = 2\n",
        "while number < 5:\n",
        "  print(\"Yes\")\n",
        "  number +=1\n",
        "\n"
      ],
      "metadata": {
        "colab": {
          "base_uri": "https://localhost:8080/"
        },
        "id": "5VKad_aJ-n5k",
        "outputId": "5abece8e-53d7-4b89-9562-cbe449a678b7"
      },
      "execution_count": null,
      "outputs": [
        {
          "output_type": "stream",
          "name": "stdout",
          "text": [
            "Yes\n",
            "Yes\n",
            "Yes\n"
          ]
        }
      ]
    },
    {
      "cell_type": "code",
      "source": [
        "fruit = [\"Apple\", \"Orange\", \"Strawberry\"]\n",
        "\n",
        "for fruit in fruit:\n",
        "  print(fruit)"
      ],
      "metadata": {
        "colab": {
          "base_uri": "https://localhost:8080/"
        },
        "id": "jDPmOw4p_i3K",
        "outputId": "d7c12e7c-0252-4f87-f1ad-b839596e7a63"
      },
      "execution_count": null,
      "outputs": [
        {
          "output_type": "stream",
          "name": "stdout",
          "text": [
            "Apple\n",
            "Orange\n",
            "Strawberry\n"
          ]
        }
      ]
    },
    {
      "cell_type": "code",
      "source": [
        "fruit = [\"Apple\", \"Orange\", \"Strawberry\"]\n",
        "\n",
        "print(fruit[1])"
      ],
      "metadata": {
        "colab": {
          "base_uri": "https://localhost:8080/"
        },
        "id": "7WvdLsZzBQjb",
        "outputId": "995a2afc-4c1b-4fe9-f92b-274589c628ee"
      },
      "execution_count": null,
      "outputs": [
        {
          "output_type": "stream",
          "name": "stdout",
          "text": [
            "Orange\n"
          ]
        }
      ]
    },
    {
      "cell_type": "code",
      "source": [
        "fruit = [\"Apple\", \"Orange\", \"Strawberry\"]\n",
        "\n",
        "i = 0\n",
        "while i < len(fruit):  # ✅ Correct condition\n",
        "  print(\"Yes\")\n",
        "  i += 1  # ✅ Increment i to prevent an infinite loop\n"
      ],
      "metadata": {
        "colab": {
          "base_uri": "https://localhost:8080/"
        },
        "id": "I55oxnNjX83V",
        "outputId": "26323dd2-1d7c-4c65-9552-4230a1be3be5"
      },
      "execution_count": null,
      "outputs": [
        {
          "output_type": "stream",
          "name": "stdout",
          "text": [
            "Yes\n",
            "Yes\n",
            "Yes\n"
          ]
        }
      ]
    },
    {
      "cell_type": "code",
      "source": [
        "fruit = [\"Apple\", \"Orange\", \"Strawberry\"]\n",
        "\n",
        "i = 0\n",
        "while i < len(fruit):  # ✅ Correct condition\n",
        "  print(\"Yes\")\n",
        "  i += 1  # ✅ Increment i to prevent an infinite loop"
      ],
      "metadata": {
        "id": "80xKks3wva49"
      },
      "execution_count": null,
      "outputs": []
    },
    {
      "cell_type": "code",
      "source": [
        "fruit = [\"Apple\", \"Orange\", \"Strawberry\"]\n",
        "first_fruit = iter(fruit)\n",
        "next(first_fruit)\n",
        "next(first_fruit)\n",
        "next(first_fruit)"
      ],
      "metadata": {
        "colab": {
          "base_uri": "https://localhost:8080/",
          "height": 35
        },
        "id": "-YUO7oJxxbdE",
        "outputId": "9cb2735e-1581-4398-ca5c-0e338b8aa0c7"
      },
      "execution_count": null,
      "outputs": [
        {
          "output_type": "execute_result",
          "data": {
            "text/plain": [
              "'Strawberry'"
            ],
            "application/vnd.google.colaboratory.intrinsic+json": {
              "type": "string"
            }
          },
          "metadata": {},
          "execution_count": 6
        }
      ]
    },
    {
      "cell_type": "code",
      "source": [
        "from itertools import chain\n",
        "\n",
        "list1 = [1, 2, 3]\n",
        "list2 = [4, 5, 6]\n",
        "\n",
        "for item in chain(list1, list2):\n",
        "    print(item)\n"
      ],
      "metadata": {
        "colab": {
          "base_uri": "https://localhost:8080/"
        },
        "id": "jh73IkiTzTWY",
        "outputId": "add4dc1d-2267-4938-ca47-8354cb980a01"
      },
      "execution_count": null,
      "outputs": [
        {
          "output_type": "stream",
          "name": "stdout",
          "text": [
            "1\n",
            "2\n",
            "3\n",
            "4\n",
            "5\n",
            "6\n"
          ]
        }
      ]
    },
    {
      "cell_type": "code",
      "source": [
        "person = {\"Name\":\"Richard\", \"Age\":35}\n",
        "print(person)"
      ],
      "metadata": {
        "colab": {
          "base_uri": "https://localhost:8080/"
        },
        "id": "Prf7qw4Mv64u",
        "outputId": "f0d4fbf3-17fa-4042-f845-a1a046a1b03a"
      },
      "execution_count": null,
      "outputs": [
        {
          "output_type": "stream",
          "name": "stdout",
          "text": [
            "{'Name': 'Richard', 'Age': 35}\n"
          ]
        }
      ]
    },
    {
      "cell_type": "code",
      "source": [
        "person={\"Name\":\"Richard\", \"Male\":\"Yes\"}\n",
        "person[\"Class\"]=\"Math\"\n",
        "print(person)"
      ],
      "metadata": {
        "colab": {
          "base_uri": "https://localhost:8080/"
        },
        "id": "NeaFWJeZwKW1",
        "outputId": "ae183ef9-60a0-4b75-f7d3-d57133de574a"
      },
      "execution_count": null,
      "outputs": [
        {
          "output_type": "stream",
          "name": "stdout",
          "text": [
            "{'Name': 'Richard', 'Male': 'Yes', 'Class': 'Math'}\n"
          ]
        }
      ]
    },
    {
      "cell_type": "code",
      "source": [
        " fruits = [\"Apple\", \"Banna\", \"Strawberry\"]\n",
        "print(fruits[0])  # Output: Apple"
      ],
      "metadata": {
        "id": "zTh8AqsF_jCW"
      },
      "execution_count": null,
      "outputs": []
    },
    {
      "cell_type": "code",
      "source": [
        "import pandas as pd\n",
        "\n",
        "fruits = [\"Apple\", \"Banna\", \"Strawberry\"]\n",
        "fruits_series = pd.Series(fruits)\n",
        "\n",
        "print(fruits_series.iloc[0])  # Output: Apple\n"
      ],
      "metadata": {
        "id": "0DgozEagMd3x"
      },
      "execution_count": null,
      "outputs": []
    },
    {
      "cell_type": "code",
      "source": [
        "Overview = {\"Class\": \"Math\", \"Level\": \"Calculus\", \"Students\": 20}\n",
        "\n",
        "# Adding a new class\n",
        "Overview[\"New Class\"] = \"Physics\"\n",
        "\n",
        "print(Overview)"
      ],
      "metadata": {
        "id": "x9O2WW37iUIZ"
      },
      "execution_count": null,
      "outputs": []
    },
    {
      "cell_type": "code",
      "source": [
        "name = {'actor':['Denzial Washington','Will Smith'],'age':34}\n",
        "print(name['actor'])"
      ],
      "metadata": {
        "colab": {
          "base_uri": "https://localhost:8080/"
        },
        "id": "D-g9R4aTDNMr",
        "outputId": "c1d47d4a-f799-43fb-d2b9-f4abda4c350f"
      },
      "execution_count": null,
      "outputs": [
        {
          "output_type": "stream",
          "name": "stdout",
          "text": [
            "['Denzial Washington', 'Will Smith']\n"
          ]
        }
      ]
    },
    {
      "cell_type": "code",
      "source": [
        "name = {'actor':['Denzial Washington','Will Smith'],'age':34}\n",
        "print(name['actor'])"
      ],
      "metadata": {
        "colab": {
          "base_uri": "https://localhost:8080/"
        },
        "id": "-9nKufazDS6R",
        "outputId": "c08329fa-55dc-4a62-8be7-a3cddce4b3cc"
      },
      "execution_count": null,
      "outputs": [
        {
          "output_type": "stream",
          "name": "stdout",
          "text": [
            "['Denzial Washington', 'Will Smith']\n"
          ]
        }
      ]
    },
    {
      "cell_type": "code",
      "source": [
        "Overview = {\"Classes\": [\"Math\", \"Physics\"], \"Level\": \"Calculus\", \"Students\": 20}\n",
        "\n",
        "# Adding another class to the list\n",
        "Overview[\"Classes\"].append(\"Chemistry\")\n",
        "\n",
        "print(Overview)\n"
      ],
      "metadata": {
        "id": "Xb6hFFf1iVp7"
      },
      "execution_count": null,
      "outputs": []
    },
    {
      "cell_type": "code",
      "source": [
        "Overview = {\"Classes\": [\"Math\", \"Physics\"], \"Level\": \"Calculus\", \"Students\": 20}\n",
        "\n",
        "for key in Overview:\n",
        "    print(f\"student {key}: {Overview[key]}\")\n",
        "\n"
      ],
      "metadata": {
        "colab": {
          "base_uri": "https://localhost:8080/"
        },
        "id": "UGvU2o-1yYSt",
        "outputId": "3521c235-8a65-48b6-bec4-1817c75aa9ff"
      },
      "execution_count": null,
      "outputs": [
        {
          "output_type": "stream",
          "name": "stdout",
          "text": [
            "student Classes: ['Math', 'Physics']\n",
            "student Level: Calculus\n",
            "student Students: 20\n"
          ]
        }
      ]
    },
    {
      "cell_type": "code",
      "source": [
        "#A class is like a\n",
        "#blueprint for a user, and __init__ is like filling out a profile when a new user is created."
      ],
      "metadata": {
        "id": "vTGW7qySjibI"
      },
      "execution_count": null,
      "outputs": []
    },
    {
      "cell_type": "code",
      "source": [
        "class Student:\n",
        "    def __init__(self, name, grade):\n",
        "        self.name = name  # Save the name\n",
        "        self.grade = grade  # Save the grade\n"
      ],
      "metadata": {
        "id": "Rp3Vgz7DyrGF"
      },
      "execution_count": null,
      "outputs": []
    },
    {
      "cell_type": "code",
      "source": [
        "class Student:\n",
        "    def __init__(self, name, grade):\n",
        "        self.name = name  # Save the name\n",
        "        self.grade = grade  # Save the grade\n",
        "\n",
        "# Creating a student\n",
        "s1 = Student(\"Richard\", 8)\n",
        "s2 = Student(\"Calvin\", 7)\n",
        "\n",
        "print(s1.name)  # Output: Richard\n",
        "print(s2.grade)  # Output: 7"
      ],
      "metadata": {
        "id": "Mx1XPzYDiyWD"
      },
      "execution_count": null,
      "outputs": []
    },
    {
      "cell_type": "code",
      "source": [
        "class Artist:\n",
        "  def __init__(self, Name, Genre):\n",
        "    self.Name = Name\n",
        "    self.Genre = Genre\n",
        "\n",
        "  def myfunction(abc):\n",
        "    print(\"My name is\", abc.Name)\n",
        "\n",
        "Artist1 = Artist(\"Drake\", \"Rap\")\n",
        "Artist2 = Artist(\"Jayz\", \"Rap\")\n",
        "\n",
        "# Correct function calls\n",
        "Artist1.myfunction()\n",
        "Artist2.myfunction()"
      ],
      "metadata": {
        "id": "Uf26fgnXwDhG"
      },
      "execution_count": null,
      "outputs": []
    },
    {
      "cell_type": "code",
      "source": [
        "class Zoo:\n",
        "  def __init__(self, species, noise):\n",
        "    self.species = species\n",
        "    self.noise = noise\n",
        "\n",
        "  def make_sound(self):\n",
        "    print(f\"{self.species}s say {self.noise}\")\n",
        "\n",
        "# Creating a Zoo object with proper arguments\n",
        "animal1 = Zoo(\"Dog\", \"Bark\")\n",
        "animal2 = Zoo(\"Cat\", \"Meow\")\n",
        "\n",
        "# Calling the method\n",
        "animal1.make_sound()  # Output: Dogs say Bark\n",
        "animal2.make_sound()  # Output: Cats say Meow\n"
      ],
      "metadata": {
        "id": "8MDzMxyE1-wv"
      },
      "execution_count": null,
      "outputs": []
    },
    {
      "cell_type": "code",
      "source": [
        "class Animal:\n",
        "    def __init__(self, name, species):\n",
        "        self.name = name\n",
        "        self.species = species\n",
        "\n",
        "    def make_sound(self):\n",
        "        print(f\"{self.species}s make a sound.\")  # Default message\n",
        "\n",
        "\n",
        "class Dog(Animal):  # Dog class inherits from Animal\n",
        "    def __init__(self, name, breed):\n",
        "        super().__init__(name, \"Dog\")  # Inherit 'name' from Animal, set species to \"Dog\"\n",
        "        self.breed = breed  # New attribute specific to Dog\n",
        "        self.sound = \"Woof Woof!\"  # is not passed through thats why not in init because all dogs bark wont change\n",
        "\n",
        "    def make_sound(self):\n",
        "        print(f\"{self.species}s say {self.sound}\")  # Using f-string like your Zoo class day does not mean anything\n",
        "\n",
        "\n",
        "# Creating objects\n",
        "dog1 = Dog(\"Buddy\", \"Golden Retriever\")\n",
        "dog2 = Dog(\"Max\", \"Bulldog\")\n",
        "\n",
        "# Calling the method\n",
        "dog1.make_sound()  # Output: Dogs say Woof Woof!\n",
        "dog2.make_sound()  # Output: Dogs say Woof Woof!\n",
        "\n"
      ],
      "metadata": {
        "id": "0agwUlGk1_i7"
      },
      "execution_count": null,
      "outputs": []
    },
    {
      "cell_type": "code",
      "source": [
        "class Animal:\n",
        "    def __init__(self, name, species):\n",
        "        self.name = name\n",
        "        self.species = species\n",
        "\n",
        "    def make_sound(self):\n",
        "        print(f\"{self.species}s make a sound.\")  # Default sound for any animal\n",
        "\n",
        "\n",
        "class Dog(Animal):  # Dog class inherits from Animal\n",
        "    def __init__(self, name, breed):\n",
        "        super().__init__(name, \"Dog\")  # Inherit 'name' from Animal, set species to \"Dog\"\n",
        "        self.breed = breed\n",
        "        self.sound = \"Woof Woof!\"  # Fixed sound for all dogs\n",
        "\n",
        "    def make_sound(self):  # Overriding the method\n",
        "        print(f\"{self.species}s say {self.sound}\")\n",
        "\n",
        "\n",
        "class Cat(Animal):  # Another subclass\n",
        "    def __init__(self, name, color):\n",
        "        super().__init__(name, \"Cat\")  # Set species to \"Cat\"\n",
        "        self.color = color\n",
        "        self.sound = \"Meow Meow!\"  # Fixed sound for all cats\n",
        "\n",
        "    def make_sound(self):  # Overriding the method\n",
        "        print(f\"{self.species}s say {self.sound}\")\n",
        "\n",
        "\n",
        "class Cow(Animal):  # Another subclass\n",
        "    def __init__(self, name, breed):\n",
        "        super().__init__(name, \"Cow\")  # Set species to \"Cow\"\n",
        "        self.breed = breed\n",
        "        self.sound = \"Moo Moo!\"  # Fixed sound for all cows\n",
        "\n",
        "    def make_sound(self):  # Overriding the method\n",
        "        print(f\"{self.species}s say {self.sound}\")\n",
        "\n",
        "\n",
        "# Polymorphism: One function that works for different objects\n",
        "def animal_sound(animal):\n",
        "    animal.make_sound()  # Calls the make_sound() method specific to each class\n",
        "\n",
        "\n",
        "# Creating different animals\n",
        "dog = Dog(\"Buddy\", \"Golden Retriever\")\n",
        "cat = Cat(\"Whiskers\", \"Black\")\n",
        "cow = Cow(\"Bessie\", \"Jersey\")\n",
        "\n",
        "# Calling the function with different objects\n",
        "animal_sound(dog)  # Output: Dogs say Woof Woof!\n",
        "animal_sound(cat)  # Output: Cats say Meow Meow!\n",
        "animal_sound(cow)  # Output: Cows say Moo Moo!\n"
      ],
      "metadata": {
        "id": "YfVj0u97lTeb"
      },
      "execution_count": null,
      "outputs": []
    },
    {
      "cell_type": "code",
      "source": [
        "class NBA:\n",
        "    def __init__(self, name, team):\n",
        "        self.name = name\n",
        "        self.team = team\n",
        "\n",
        "    def __str__(self):\n",
        "        return f\"{self.name} plays for {self.team}\"  # Return the string instead of printing it\n",
        "\n",
        "player1 = NBA(\"Steph Curry\", \"Warriors\")\n",
        "player2 = NBA(\"LeBron James\", \"Lakers\")\n",
        "\n",
        "print(player1)  # This will now correctly print \"Steph Curry plays for Warriors\"\n",
        "print(player2)  # This will now correctly print \"LeBron James plays for Lakers\"\n",
        "\n",
        "\n"
      ],
      "metadata": {
        "id": "qUecM6O4mMCK",
        "colab": {
          "base_uri": "https://localhost:8080/"
        },
        "outputId": "17c60b2a-246b-48d7-f4dd-53c49561415b"
      },
      "execution_count": null,
      "outputs": [
        {
          "output_type": "stream",
          "name": "stdout",
          "text": [
            "Steph Curry plays for Warriors\n",
            "LeBron James plays for Lakers\n"
          ]
        }
      ]
    },
    {
      "cell_type": "code",
      "source": [
        "import pandas as pd\n",
        "a = [1,3,5]\n",
        "var = pd.Series(a)\n",
        "print(var)\n"
      ],
      "metadata": {
        "colab": {
          "base_uri": "https://localhost:8080/"
        },
        "id": "OYBbD70m6_lu",
        "outputId": "04defc8a-6e57-4172-f156-b01f8eb6bcd5"
      },
      "execution_count": null,
      "outputs": [
        {
          "output_type": "stream",
          "name": "stdout",
          "text": [
            "0    1\n",
            "1    3\n",
            "2    5\n",
            "dtype: int64\n"
          ]
        }
      ]
    },
    {
      "cell_type": "code",
      "source": [
        "a = [1,3,5]\n",
        "var = pd.Series(a, index=[\"a\",\"b\",\"c\"])\n",
        "print(var)"
      ],
      "metadata": {
        "colab": {
          "base_uri": "https://localhost:8080/"
        },
        "id": "EQN9KRgyaQHV",
        "outputId": "2f98da2d-a7ba-49aa-b3fd-8a5745aa20bd"
      },
      "execution_count": null,
      "outputs": [
        {
          "output_type": "stream",
          "name": "stdout",
          "text": [
            "a    1\n",
            "b    3\n",
            "c    5\n",
            "dtype: int64\n"
          ]
        }
      ]
    },
    {
      "cell_type": "code",
      "source": [
        "import pandas as pd\n",
        "\n",
        "df = pd.read_csv('data.csv')\n",
        "\n",
        "print(df.head(10))"
      ],
      "metadata": {
        "id": "VMqx2Pou-RD-"
      },
      "execution_count": null,
      "outputs": []
    },
    {
      "cell_type": "code",
      "source": [
        "#Return a new Data Frame with no empty cells:\n",
        "#Use inplace=True when want modify original df directly and don't need original version.\n",
        "new_df = df.dropna()\n",
        "\n",
        "print(new_df.to_string())"
      ],
      "metadata": {
        "id": "kaooJOnT-_5H"
      },
      "execution_count": null,
      "outputs": []
    },
    {
      "cell_type": "code",
      "source": [
        "#Remove all rows with NULL values:\n",
        "\n",
        "df.dropna(inplace = True)\n",
        "\n",
        "print(df.to_string())"
      ],
      "metadata": {
        "id": "zEwR3xra_AtM"
      },
      "execution_count": null,
      "outputs": []
    },
    {
      "cell_type": "code",
      "source": [
        "#Replace NULL values with the number 130:\n",
        "\n",
        "\n",
        "df.fillna(130, inplace = True)\n"
      ],
      "metadata": {
        "id": "RdLlWGFV_PZw"
      },
      "execution_count": null,
      "outputs": []
    },
    {
      "cell_type": "code",
      "source": [
        "#replace with mean value\n",
        "import pandas as pd\n",
        "\n",
        "df = pd.read_csv('data.csv')\n",
        "\n",
        "x = df[\"Calories\"].mean()\n",
        "\n",
        "df[\"Calories\"].fillna(x, inplace = True)"
      ],
      "metadata": {
        "id": "t7Cp_0az_b-U"
      },
      "execution_count": null,
      "outputs": []
    },
    {
      "cell_type": "code",
      "source": [
        "#information on data\n",
        "print(df.info())"
      ],
      "metadata": {
        "id": "u9T4iQFJBVYI"
      },
      "execution_count": null,
      "outputs": []
    },
    {
      "cell_type": "code",
      "source": [
        "#Returns True for every row that is a duplicate, otherwise False:\n",
        "\n",
        "print(df.duplicated())"
      ],
      "metadata": {
        "id": "N1jIzAvq_rUP"
      },
      "execution_count": null,
      "outputs": []
    },
    {
      "cell_type": "code",
      "source": [
        "#Remove all duplicates:\n",
        "\n",
        "df.drop_duplicates(inplace = True)"
      ],
      "metadata": {
        "id": "NB_aGHyp_tBU"
      },
      "execution_count": null,
      "outputs": []
    },
    {
      "cell_type": "code",
      "source": [
        "#pandas Show the relationship between the columns:\n",
        "\n",
        "df.corr()"
      ],
      "metadata": {
        "id": "dxy8BZmj_4cN"
      },
      "execution_count": null,
      "outputs": []
    },
    {
      "cell_type": "code",
      "source": [
        "import pandas as pd\n",
        "import matplotlib.pyplot as plt\n",
        "\n",
        "df = pd.read_csv('data.csv')\n",
        "\n",
        "df.plot()\n",
        "\n",
        "plt.show()"
      ],
      "metadata": {
        "id": "1EGBQ92H_7Wg"
      },
      "execution_count": null,
      "outputs": []
    },
    {
      "cell_type": "code",
      "source": [
        "df.plot(kind = 'scatter', x = 'Duration', y = 'Calories')\n",
        "\n",
        "plt.show()"
      ],
      "metadata": {
        "id": "0dUkGJ5xBBMp"
      },
      "execution_count": null,
      "outputs": []
    },
    {
      "cell_type": "code",
      "source": [
        "df[\"Duration\"].plot(kind = 'hist')\n"
      ],
      "metadata": {
        "id": "QLUXvgxZBL0u"
      },
      "execution_count": null,
      "outputs": []
    },
    {
      "cell_type": "code",
      "source": [
        "class Animal:\n",
        "    def __init__(self, name, species):\n",
        "        self.name = name\n",
        "        self.species = species\n",
        "\n",
        "    def make_sound(self):\n",
        "        print(f\"{self.species}s make a sound.\")  # Default message"
      ],
      "metadata": {
        "id": "oPbwUSNeOglT"
      },
      "execution_count": null,
      "outputs": []
    },
    {
      "cell_type": "code",
      "source": [
        "class NBA:\n",
        "    def __init__(self, Team, State):\n",
        "        self.Team = Team\n",
        "        self.State = State\n",
        "\n",
        "    def Intro(self):\n",
        "        print(f\"My favorite team is {self.Team}, located in {self.State}.\")\n",
        "\n",
        "# Correct instantiation for teams\n",
        "Team1 = NBA(\"Warriors\", \"San Francisco\")\n",
        "Team2 = NBA(\"Suns\", \"Phoenix\")\n",
        "Team3 = NBA(\"Lakers\", \"Los Angeles\")\n",
        "\n",
        "# Player class inherits from NBA\n",
        "class Player(NBA):\n",
        "    def __init__(self, Player, Team, State):\n",
        "        super().__init__(Team, State)  # Inherit Team and State from NBA\n",
        "        self.Player = Player  # Add Player attribute\n",
        "\n",
        "    def Intro(self):\n",
        "        print(f\"My favorite player is {self.Player}, and he plays for {self.Team} in {self.State}.\")\n",
        "\n",
        "# Correct instantiation using Player class\n",
        "p1 = Player(\"Steph Curry\", \"Warriors\", \"San Francisco\")\n",
        "p2 = Player(\"Kevin Durant\", \"Suns\", \"Phoenix\")\n",
        "p3 = Player(\"LeBron James\", \"Lakers\", \"Los Angeles\")\n",
        "\n",
        "# Call method\n",
        "p1.Intro()\n",
        "p2.Intro()\n",
        "p3.Intro()\n"
      ],
      "metadata": {
        "colab": {
          "base_uri": "https://localhost:8080/"
        },
        "id": "fwzxBfyUOsxo",
        "outputId": "b08fe0e9-385a-48d0-d153-017e95c60256"
      },
      "execution_count": null,
      "outputs": [
        {
          "output_type": "stream",
          "name": "stdout",
          "text": [
            "My favorite team is Lakers\n"
          ]
        }
      ]
    },
    {
      "cell_type": "code",
      "source": [
        "class Dog(Animal):  # Dog class inherits from Animal\n",
        "    def __init__(self, name, breed):\n",
        "        super().__init__(name, \"Dog\")  # Inherit 'name' from Animal, set species to \"Dog\"\n",
        "        self.breed = breed  # New attribute specific to Dog\n",
        "        self.sound = \"Woof Woof!\"  # is not passed through thats why not in init because all dogs bark wont change\n",
        "\n",
        "    def make_sound(self):\n",
        "        print(f\"{self.species}s say {self.sound}\")  # Using f-string like your Zoo class day does not mean anything\n",
        "\n",
        "\n",
        "# Creating objects\n",
        "dog1 = Dog(\"Buddy\", \"Golden Retriever\")\n",
        "dog2 = Dog(\"Max\", \"Bulldog\")\n",
        "\n",
        "# Calling the method\n",
        "dog1.make_sound()  # Output: Dogs say Woof Woof!\n",
        "dog2.make_sound()  # Output: Dogs say Woof Woof!"
      ],
      "metadata": {
        "id": "S5qEJfzsOpNT"
      },
      "execution_count": null,
      "outputs": []
    },
    {
      "cell_type": "code",
      "source": [
        "class NBA:\n",
        "  def __init__(self, Team, State):\n",
        "    self.Team = Team\n",
        "    self.State = State\n",
        "\n",
        "  def (self):\n",
        "    print(f\"my favorite team is {self.Team}, which is in the state of {self.State}\")\n",
        "\n",
        "class Players(NBA):\n",
        "  def __init__(self, team, player):\n",
        "    super().__init__(team)\n",
        "    self.player = player\n",
        "\n"
      ],
      "metadata": {
        "id": "PxcQ16N6e_eV"
      },
      "execution_count": null,
      "outputs": []
    }
  ]
}