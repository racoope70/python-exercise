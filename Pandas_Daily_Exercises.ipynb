{
  "cells": [
    {
      "cell_type": "markdown",
      "metadata": {
        "id": "view-in-github",
        "colab_type": "text"
      },
      "source": [
        "<a href=\"https://colab.research.google.com/github/racoope70/python-exercise/blob/main/Pandas_Daily_Exercises.ipynb\" target=\"_parent\"><img src=\"https://colab.research.google.com/assets/colab-badge.svg\" alt=\"Open In Colab\"/></a>"
      ]
    },
    {
      "cell_type": "markdown",
      "id": "77f7ea59",
      "metadata": {
        "id": "77f7ea59"
      },
      "source": [
        "# 📊 Pandas Daily Exercises\n",
        "This notebook provides daily Pandas exercises, progressing from beginner to advanced.\n",
        "\n",
        "**Instructions:** Follow the exercises, modify the code, and experiment to learn!\n",
        "\n",
        "---"
      ]
    },
    {
      "cell_type": "code",
      "execution_count": null,
      "id": "3703eb32",
      "metadata": {
        "colab": {
          "base_uri": "https://localhost:8080/"
        },
        "id": "3703eb32",
        "outputId": "ac4cf8a5-3e47-469d-9de4-7ed0d84a63bf"
      },
      "outputs": [
        {
          "output_type": "stream",
          "name": "stdout",
          "text": [
            "2.2.2\n"
          ]
        }
      ],
      "source": [
        "#Installing and Importing Pandas\n",
        "import pandas as pd  # Ensure pandas is installed\n",
        "print(pd.__version__)  # Check installed version"
      ]
    },
    {
      "cell_type": "code",
      "source": [
        "a = [1, 7, 2]\n",
        "\n",
        "myvar = pd.Series(a)\n",
        "\n",
        "print(myvar)\n",
        "print(myvar[0])"
      ],
      "metadata": {
        "colab": {
          "base_uri": "https://localhost:8080/"
        },
        "id": "tvb4QzfepyV1",
        "outputId": "ca1e8746-83fa-425a-f227-315a81bf25f0"
      },
      "id": "tvb4QzfepyV1",
      "execution_count": null,
      "outputs": [
        {
          "output_type": "stream",
          "name": "stdout",
          "text": [
            "0    1\n",
            "1    7\n",
            "2    2\n",
            "dtype: int64\n"
          ]
        }
      ]
    },
    {
      "cell_type": "code",
      "source": [
        "a = [1,7,2]\n",
        "\n",
        "myvar = pd.Series(a)\n",
        "\n",
        "print(myvar[0])\n",
        "print(myvar[1])"
      ],
      "metadata": {
        "colab": {
          "base_uri": "https://localhost:8080/"
        },
        "id": "h-OAjpUfp42E",
        "outputId": "9e00cfe5-6c0c-443e-c98c-dbbaf5d8953d"
      },
      "id": "h-OAjpUfp42E",
      "execution_count": null,
      "outputs": [
        {
          "output_type": "stream",
          "name": "stdout",
          "text": [
            "1\n",
            "7\n"
          ]
        }
      ]
    },
    {
      "cell_type": "code",
      "source": [
        "a = [100, 200, 300]\n",
        "my_series = pd.Series(a, index=[\"Alice\", \"Bob\", \"Charlie\"])\n",
        "\n",
        "print(my_series)"
      ],
      "metadata": {
        "id": "R24FsNRMqCWE"
      },
      "id": "R24FsNRMqCWE",
      "execution_count": null,
      "outputs": []
    },
    {
      "cell_type": "code",
      "source": [
        "# Define the actual relationships (values) for the Series\n",
        "Family = [\"Mom\", \"Brother\", \"Uncle\", \"Cousin\", \"Grandpa\", \"Daughter\"]\n",
        "\n",
        "# Create a Pandas Series with meaningful index and values\n",
        "Relationship = pd.Series(Family, index=[\"Lisa\", \"Richard\", \"Calvin\", \"Jimmy\", \"Davis\", \"Sarah\"])\n",
        "\n",
        "print(Relationship.iloc[0])\n"
      ],
      "metadata": {
        "colab": {
          "base_uri": "https://localhost:8080/"
        },
        "id": "yo_2IfEPwtH5",
        "outputId": "26d633e0-8964-4862-c3b0-af612ee18296"
      },
      "id": "yo_2IfEPwtH5",
      "execution_count": null,
      "outputs": [
        {
          "output_type": "stream",
          "name": "stdout",
          "text": [
            "Mom\n"
          ]
        }
      ]
    },
    {
      "cell_type": "code",
      "source": [
        "import pandas as pd\n",
        "\n",
        "Family = {\n",
        "    \"Name\": [\"Anna\", \"Richard\", \"Calvin\", \"Jimmy\", \"Davis\", \"Rianna\"],\n",
        "    \"Relationship\": [\"Mom\", \"Oldest Brother\", \"Youngest Brother\", \"Younger Sister\", \"Father\", \"Daughter\"],\n",
        "}\n",
        "\n",
        "# Create DataFrame\n",
        "df = pd.DataFrame(Family)\n",
        "\n",
        "print(df)"
      ],
      "metadata": {
        "id": "epAOIVV263LK"
      },
      "id": "epAOIVV263LK",
      "execution_count": null,
      "outputs": []
    }
  ],
  "metadata": {
    "colab": {
      "provenance": [],
      "include_colab_link": true
    },
    "language_info": {
      "name": "python"
    },
    "kernelspec": {
      "name": "python3",
      "display_name": "Python 3"
    }
  },
  "nbformat": 4,
  "nbformat_minor": 5
}