{
  "cells": [
    {
      "cell_type": "markdown",
      "metadata": {
        "id": "view-in-github",
        "colab_type": "text"
      },
      "source": [
        "<a href=\"https://colab.research.google.com/github/racoope70/python-exercise/blob/main/Basic_Exercise_1.ipynb\" target=\"_parent\"><img src=\"https://colab.research.google.com/assets/colab-badge.svg\" alt=\"Open In Colab\"/></a>"
      ]
    },
    {
      "cell_type": "code",
      "execution_count": null,
      "metadata": {
        "id": "NWBe53QjYkhu"
      },
      "outputs": [],
      "source": [
        "#Goal: Pick a secret number (e.g., 42), and have the user guess.\n",
        "#Give them feedback: too high, too low, or correct.\n",
        "\n",
        "#Uses: if, while, input, comparison."
      ]
    },
    {
      "cell_type": "code",
      "execution_count": null,
      "metadata": {
        "colab": {
          "base_uri": "https://localhost:8080/"
        },
        "id": "81-OZrnJZN_s",
        "outputId": "488fe258-dc5d-4591-8da7-684c7d1583d8"
      },
      "outputs": [
        {
          "name": "stdout",
          "output_type": "stream",
          "text": [
            "Guess the secret number: 20\n",
            "too low\n",
            "Guess the secret number: 50\n",
            "too high\n",
            "Guess the secret number: 42\n",
            "correct\n"
          ]
        }
      ],
      "source": [
        "def Secret_Number(n):\n",
        "    if n < 42:\n",
        "        print('too low')\n",
        "    elif n == 42:\n",
        "        print('correct')\n",
        "    elif n > 42:\n",
        "        print('too high')\n",
        "\n",
        "guess = None  # start with no guess\n",
        "while guess != 42:  # keep looping until correct\n",
        "    guess = int(input(\"Guess the secret number: \"))  # user input\n",
        "    Secret_Number(guess)\n"
      ]
    },
    {
      "cell_type": "code",
      "execution_count": null,
      "metadata": {
        "id": "uPev4iASarLc"
      },
      "outputs": [],
      "source": [
        "#2. Count Down Timer\n",
        "\n",
        "#Goal: Start from a number (like 10) and count down to 0, printing each step.\n",
        "\n",
        "#Uses: while, subtraction, print."
      ]
    },
    {
      "cell_type": "code",
      "execution_count": null,
      "metadata": {
        "colab": {
          "base_uri": "https://localhost:8080/"
        },
        "id": "JtzVazcD4pt_",
        "outputId": "5e76526d-9f22-4d46-8980-1c397805a623"
      },
      "outputs": [
        {
          "name": "stdout",
          "output_type": "stream",
          "text": [
            "10\n",
            "9\n",
            "8\n",
            "7\n",
            "6\n",
            "5\n",
            "4\n",
            "3\n",
            "2\n",
            "1\n",
            "0\n"
          ]
        }
      ],
      "source": [
        "count = 10  # starting number\n",
        "while count >= 0:\n",
        "    print(count)\n",
        "    count -= 1  # subtract 1 each time\n",
        "\n"
      ]
    },
    {
      "cell_type": "code",
      "execution_count": 1,
      "metadata": {
        "colab": {
          "base_uri": "https://localhost:8080/"
        },
        "id": "qqlx6EHnM1qE",
        "outputId": "a294b059-98d2-41b8-c6d4-0dc96059c3ae"
      },
      "outputs": [
        {
          "output_type": "stream",
          "name": "stdout",
          "text": [
            "10\n",
            "9\n",
            "8\n",
            "7\n",
            "6\n",
            "5\n",
            "4\n",
            "3\n",
            "2\n",
            "1\n",
            "0\n",
            "Stop\n"
          ]
        }
      ],
      "source": [
        "def count_break(timer):\n",
        "    while timer >= 0:  # countdown direction\n",
        "        print(timer)\n",
        "        if timer == 0:\n",
        "            print(\"Stop\")\n",
        "            break  # break ends the loop immediately\n",
        "        timer -= 1  # subtract 1 each time\n",
        "\n",
        "timer = 10\n",
        "count_break(timer)\n"
      ]
    },
    {
      "cell_type": "code",
      "execution_count": null,
      "metadata": {
        "id": "Ji3jekKmQW53"
      },
      "outputs": [],
      "source": [
        "#3. Check Even or Odd\n",
        "\n",
        "#Goal: Write a function that checks if a number is even or odd and prints the result.\n",
        "\n",
        "#Uses: if, % operator (modulus), function definition. '''"
      ]
    },
    {
      "cell_type": "code",
      "execution_count": 10,
      "metadata": {
        "colab": {
          "base_uri": "https://localhost:8080/"
        },
        "id": "B8vVhxkvQXg0",
        "outputId": "ccf8b029-6f7d-4d8c-ce00-37ff0c742f07"
      },
      "outputs": [
        {
          "output_type": "stream",
          "name": "stdout",
          "text": [
            "2 is even\n",
            "3 is odd\n"
          ]
        }
      ],
      "source": [
        "def check_even_odd(num):\n",
        "    if num % 2 == 0:\n",
        "        print(f\"{num} is even\")\n",
        "    else:\n",
        "        print(f\"{num} is odd\")\n",
        "\n",
        "# test the function\n",
        "check_even_odd(2)\n",
        "check_even_odd(3)\n",
        "\n",
        "\n"
      ]
    },
    {
      "cell_type": "code",
      "execution_count": null,
      "metadata": {
        "colab": {
          "base_uri": "https://localhost:8080/",
          "height": 108
        },
        "id": "Gk86_KJ1Qck1",
        "outputId": "3ca51f41-0146-41a7-a5d2-c80cb57455d9"
      },
      "outputs": [
        {
          "ename": "SyntaxError",
          "evalue": "invalid character '✅' (U+2705) (ipython-input-3329613362.py, line 1)",
          "output_type": "error",
          "traceback": [
            "\u001b[0;36m  File \u001b[0;32m\"/tmp/ipython-input-3329613362.py\"\u001b[0;36m, line \u001b[0;32m1\u001b[0m\n\u001b[0;31m    ✅ 4. Simple Multiplication Table\u001b[0m\n\u001b[0m    ^\u001b[0m\n\u001b[0;31mSyntaxError\u001b[0m\u001b[0;31m:\u001b[0m invalid character '✅' (U+2705)\n"
          ]
        }
      ],
      "source": [
        "#4. Simple Multiplication Table\n",
        "\n",
        "#Goal: Loop through numbers 1 to 10 and print 2 x n = result.\n",
        "\n",
        "#Uses: for loop or while, math, print."
      ]
    },
    {
      "cell_type": "code",
      "execution_count": 11,
      "metadata": {
        "colab": {
          "base_uri": "https://localhost:8080/"
        },
        "id": "Hy86AKlzQgAb",
        "outputId": "9ea948c6-5fac-439e-dbd7-b8454b0ebb4e"
      },
      "outputs": [
        {
          "output_type": "stream",
          "name": "stdout",
          "text": [
            "2 x 1 = 2\n",
            "2 x 2 = 4\n",
            "2 x 3 = 6\n",
            "2 x 4 = 8\n",
            "2 x 5 = 10\n",
            "2 x 6 = 12\n",
            "2 x 7 = 14\n",
            "2 x 8 = 16\n",
            "2 x 9 = 18\n",
            "2 x 10 = 20\n"
          ]
        }
      ],
      "source": [
        "for n in range(1, 11):  # 1 to 10\n",
        "    print(f\"2 x {n} = {2 * n}\")"
      ]
    },
    {
      "cell_type": "code",
      "source": [
        "numbers = [1,2,3,4,5,6,7,8,9,10]\n",
        "for n in numbers:\n",
        "    print(f\"2 x {n} = {2 * n}\")\n"
      ],
      "metadata": {
        "colab": {
          "base_uri": "https://localhost:8080/"
        },
        "id": "31F1plT-cQcj",
        "outputId": "0b9ad951-b664-4e53-ee68-6ec59053e004"
      },
      "execution_count": 12,
      "outputs": [
        {
          "output_type": "stream",
          "name": "stdout",
          "text": [
            "2 x 1 = 2\n",
            "2 x 2 = 4\n",
            "2 x 3 = 6\n",
            "2 x 4 = 8\n",
            "2 x 5 = 10\n",
            "2 x 6 = 12\n",
            "2 x 7 = 14\n",
            "2 x 8 = 16\n",
            "2 x 9 = 18\n",
            "2 x 10 = 20\n"
          ]
        }
      ]
    },
    {
      "cell_type": "code",
      "execution_count": null,
      "metadata": {
        "id": "v1d91j4tQYfN"
      },
      "outputs": [],
      "source": [
        "#5. Grade Feedback\n",
        "\n",
        "#Goal: Write a function that takes a grade and prints:\n",
        "\n",
        "#\"A\" if 90+\n",
        "\n",
        "#\"B\" if 80–89\n",
        "\n",
        "#\"C\" if 70–79\n",
        "\n",
        "#\"Fail\" if below 70\n",
        "\n",
        "#Uses: if/elif/else, function input."
      ]
    },
    {
      "cell_type": "code",
      "execution_count": 13,
      "metadata": {
        "colab": {
          "base_uri": "https://localhost:8080/"
        },
        "id": "f52j7OiOQZE0",
        "outputId": "a5a0c36d-d845-47af-cb65-cdc7f2d91db5"
      },
      "outputs": [
        {
          "output_type": "stream",
          "name": "stdout",
          "text": [
            "B\n",
            "A\n",
            "Fail\n"
          ]
        }
      ],
      "source": [
        "def score(grade):\n",
        "    if grade >= 90:\n",
        "        print(\"A\")\n",
        "    elif grade >= 80:\n",
        "        print(\"B\")\n",
        "    elif grade >= 70:\n",
        "        print(\"C\")\n",
        "    else:\n",
        "        print(\"Fail\")\n",
        "\n",
        "# Example:\n",
        "score(85)   # prints B\n",
        "score(92)   # prints A\n",
        "score(65)   # prints Fail\n"
      ]
    }
  ],
  "metadata": {
    "colab": {
      "provenance": [],
      "authorship_tag": "ABX9TyNAgaPe8MFd2pi3F1Pvy2BJ",
      "include_colab_link": true
    },
    "kernelspec": {
      "display_name": "Python 3",
      "name": "python3"
    },
    "language_info": {
      "name": "python"
    }
  },
  "nbformat": 4,
  "nbformat_minor": 0
}