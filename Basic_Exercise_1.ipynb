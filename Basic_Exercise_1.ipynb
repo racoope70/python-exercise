{
  "cells": [
    {
      "cell_type": "markdown",
      "metadata": {
        "id": "view-in-github",
        "colab_type": "text"
      },
      "source": [
        "<a href=\"https://colab.research.google.com/github/racoope70/python-exercise/blob/main/Basic_Exercise_1.ipynb\" target=\"_parent\"><img src=\"https://colab.research.google.com/assets/colab-badge.svg\" alt=\"Open In Colab\"/></a>"
      ]
    },
    {
      "cell_type": "code",
      "execution_count": null,
      "metadata": {
        "id": "NWBe53QjYkhu"
      },
      "outputs": [],
      "source": [
        "#Goal: Pick a secret number (e.g., 42), and have the user guess.\n",
        "#Give them feedback: too high, too low, or correct.\n",
        "\n",
        "#Uses: if, while, input, comparison."
      ]
    },
    {
      "cell_type": "code",
      "execution_count": null,
      "metadata": {
        "id": "81-OZrnJZN_s"
      },
      "outputs": [],
      "source": [
        "def Secret_Number(n):\n",
        "    if n < 42:\n",
        "        print('too low')\n",
        "    elif n == 42:\n",
        "        print('correct')\n",
        "    elif n > 42:\n",
        "        print('too high')\n",
        "\n",
        "guess = None  # start with no guess\n",
        "while guess != 42:  # keep looping until correct\n",
        "    guess = int(input(\"Guess the secret number: \"))  # user input\n",
        "    Secret_Number(guess)\n"
      ]
    },
    {
      "cell_type": "code",
      "execution_count": null,
      "metadata": {
        "id": "uPev4iASarLc"
      },
      "outputs": [],
      "source": [
        "#2. Count Down Timer\n",
        "\n",
        "#Goal: Start from a number (like 10) and count down to 0, printing each step.\n",
        "\n",
        "#Uses: while, subtraction, print."
      ]
    },
    {
      "cell_type": "code",
      "execution_count": null,
      "metadata": {
        "id": "JtzVazcD4pt_"
      },
      "outputs": [],
      "source": [
        "count = 10  # starting number\n",
        "while count >= 0:\n",
        "    print(count)\n",
        "    count -= 1  # subtract 1 each time\n",
        "\n"
      ]
    },
    {
      "cell_type": "code",
      "execution_count": null,
      "metadata": {
        "id": "qqlx6EHnM1qE"
      },
      "outputs": [],
      "source": [
        "def count_break(timer):\n",
        "    while timer >= 0:  # countdown direction\n",
        "        print(timer)\n",
        "        if timer == 0:\n",
        "            print(\"Stop\")\n",
        "            break  # break ends the loop immediately\n",
        "        timer -= 1  # subtract 1 each time\n",
        "\n",
        "timer = 10\n",
        "count_break(timer)\n"
      ]
    },
    {
      "cell_type": "code",
      "execution_count": null,
      "metadata": {
        "id": "Ji3jekKmQW53"
      },
      "outputs": [],
      "source": [
        "#3. Check Even or Odd\n",
        "\n",
        "#Goal: Write a function that checks if a number is even or odd and prints the result.\n",
        "\n",
        "#Uses: if, % operator (modulus), function definition. '''"
      ]
    },
    {
      "cell_type": "code",
      "execution_count": null,
      "metadata": {
        "id": "B8vVhxkvQXg0"
      },
      "outputs": [],
      "source": [
        "def check_even_odd(num):\n",
        "    if num % 2 == 0:\n",
        "        print(f\"{num} is even\")\n",
        "    else:\n",
        "        print(f\"{num} is odd\")\n",
        "\n",
        "# test the function\n",
        "check_even_odd(2)\n",
        "check_even_odd(3)\n",
        "\n",
        "\n"
      ]
    },
    {
      "cell_type": "code",
      "execution_count": null,
      "metadata": {
        "id": "Gk86_KJ1Qck1"
      },
      "outputs": [],
      "source": [
        "#4. Simple Multiplication Table\n",
        "\n",
        "#Goal: Loop through numbers 1 to 10 and print 2 x n = result.\n",
        "\n",
        "#Uses: for loop or while, math, print."
      ]
    },
    {
      "cell_type": "code",
      "execution_count": null,
      "metadata": {
        "id": "Hy86AKlzQgAb"
      },
      "outputs": [],
      "source": [
        "for n in range(1, 11):  # 1 to 10\n",
        "    print(f\"2 x {n} = {2 * n}\")"
      ]
    },
    {
      "cell_type": "code",
      "source": [
        "numbers = [1,2,3,4,5,6,7,8,9,10]\n",
        "for n in numbers:\n",
        "    print(f\"2 x {n} = {2 * n}\")\n"
      ],
      "metadata": {
        "id": "31F1plT-cQcj"
      },
      "execution_count": null,
      "outputs": []
    },
    {
      "cell_type": "code",
      "execution_count": null,
      "metadata": {
        "id": "v1d91j4tQYfN"
      },
      "outputs": [],
      "source": [
        "#5. Grade Feedback\n",
        "\n",
        "#Goal: Write a function that takes a grade and prints:\n",
        "\n",
        "#\"A\" if 90+\n",
        "\n",
        "#\"B\" if 80–89\n",
        "\n",
        "#\"C\" if 70–79\n",
        "\n",
        "#\"Fail\" if below 70\n",
        "\n",
        "#Uses: if/elif/else, function input."
      ]
    },
    {
      "cell_type": "code",
      "execution_count": null,
      "metadata": {
        "id": "f52j7OiOQZE0"
      },
      "outputs": [],
      "source": [
        "def score(grade):\n",
        "    if grade >= 90:\n",
        "        print(\"A\")\n",
        "    elif grade >= 80:\n",
        "        print(\"B\")\n",
        "    elif grade >= 70:\n",
        "        print(\"C\")\n",
        "    else:\n",
        "        print(\"Fail\")\n",
        "\n",
        "# Example:\n",
        "score(85)   # prints B\n",
        "score(92)   # prints A\n",
        "score(65)   # prints Fail\n"
      ]
    }
  ],
  "metadata": {
    "colab": {
      "provenance": [],
      "include_colab_link": true
    },
    "kernelspec": {
      "display_name": "Python 3",
      "name": "python3"
    },
    "language_info": {
      "name": "python"
    }
  },
  "nbformat": 4,
  "nbformat_minor": 0
}